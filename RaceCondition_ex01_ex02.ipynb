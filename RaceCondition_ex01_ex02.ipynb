{
  "nbformat": 4,
  "nbformat_minor": 0,
  "metadata": {
    "colab": {
      "provenance": [],
      "collapsed_sections": [
        "cURaXoEdjfn3"
      ],
      "mount_file_id": "1CPvBr5FGnreq4NsA5HDC5HUM-Yy6eXcL",
      "authorship_tag": "ABX9TyOfKISyOVCKfV6X8yitffWA",
      "include_colab_link": true
    },
    "kernelspec": {
      "name": "python3",
      "display_name": "Python 3"
    },
    "language_info": {
      "name": "python"
    }
  },
  "cells": [
    {
      "cell_type": "markdown",
      "metadata": {
        "id": "view-in-github",
        "colab_type": "text"
      },
      "source": [
        "<a href=\"https://colab.research.google.com/github/miokobayashii/FCSE2024/blob/main/RaceCondition_ex01_ex02.ipynb\" target=\"_parent\"><img src=\"https://colab.research.google.com/assets/colab-badge.svg\" alt=\"Open In Colab\"/></a>"
      ]
    },
    {
      "cell_type": "markdown",
      "source": [
        "## Exercise 01:Execution of multiple processes (1)\n",
        "\n",
        "\n",
        "Please copy this file in your directory (For example, Colab Notebooks)\n",
        "and put the file Race.py in the same directory.\n",
        "\n",
        "\n",
        "Execute the program Race.py. How was the result different from what you expected? Consider the reason."
      ],
      "metadata": {
        "id": "cURaXoEdjfn3"
      }
    },
    {
      "cell_type": "code",
      "source": [
        "cd \"/content/drive/MyDrive/Colab Notebooks\""
      ],
      "metadata": {
        "id": "gPlSbNFf71B5"
      },
      "execution_count": null,
      "outputs": []
    },
    {
      "cell_type": "code",
      "source": [
        "ls"
      ],
      "metadata": {
        "id": "Gp-pr6yU-Zpx"
      },
      "execution_count": null,
      "outputs": []
    },
    {
      "cell_type": "code",
      "source": [
        "!python3 --version"
      ],
      "metadata": {
        "id": "e_31Cn3O-ddn"
      },
      "execution_count": null,
      "outputs": []
    },
    {
      "cell_type": "code",
      "source": [
        "!python3 Race.py"
      ],
      "metadata": {
        "id": "fP5UzoI2-iNA"
      },
      "execution_count": null,
      "outputs": []
    },
    {
      "cell_type": "markdown",
      "source": [
        "## Exercise 02: Execution of multiple processes (2)\n",
        "\n",
        "\n",
        "Copy Race.py to RacePts.py and modify the program. How did the result change? Consider the reason."
      ],
      "metadata": {
        "id": "F3tX5bdBlZ4r"
      }
    },
    {
      "cell_type": "code",
      "source": [
        "cp Race.py \"/content/drive/MyDrive/Colab Notebooks/RacePts.py\""
      ],
      "metadata": {
        "id": "igS5IjX2-oCG"
      },
      "execution_count": null,
      "outputs": []
    },
    {
      "cell_type": "code",
      "source": [
        "!python3 RacePts.py"
      ],
      "metadata": {
        "id": "R7_eR874IBlY"
      },
      "execution_count": null,
      "outputs": []
    }
  ]
}