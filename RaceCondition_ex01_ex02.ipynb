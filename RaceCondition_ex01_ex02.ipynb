{
  "nbformat": 4,
  "nbformat_minor": 0,
  "metadata": {
    "colab": {
      "provenance": [],
      "collapsed_sections": [
        "cURaXoEdjfn3"
      ],
      "mount_file_id": "1CPvBr5FGnreq4NsA5HDC5HUM-Yy6eXcL",
      "authorship_tag": "ABX9TyOfKISyOVCKfV6X8yitffWA",
      "include_colab_link": true
    },
    "kernelspec": {
      "name": "python3",
      "display_name": "Python 3"
    },
    "language_info": {
      "name": "python"
    }
  },
  "cells": [
    {
      "cell_type": "markdown",
      "metadata": {
        "id": "view-in-github",
        "colab_type": "text"
      },
      "source": [
        "<a href=\"https://colab.research.google.com/github/miokobayashii/FCSE2024/blob/main/RaceCondition_ex01_ex02.ipynb\" target=\"_parent\"><img src=\"https://colab.research.google.com/assets/colab-badge.svg\" alt=\"Open In Colab\"/></a>"
      ]
    },
    {
      "cell_type": "markdown",
      "source": [
        "## Exercise 01:Execution of multiple processes (1)\n",
        "\n",
        "\n",
        "Please copy this file in your directory (For example, Colab Notebooks)\n",
        "and put the file Race.py in the same directory.\n",
        "\n",
        "\n",
        "Execute the program Race.py. How was the result different from what you expected? Consider the reason."
      ],
      "metadata": {
        "id": "cURaXoEdjfn3"
      }
    },
    {
      "cell_type": "code",
      "source": [
        "cd \"/content/drive/MyDrive/Colab Notebooks\""
      ],
      "metadata": {
        "colab": {
          "base_uri": "https://localhost:8080/"
        },
        "id": "gPlSbNFf71B5",
        "outputId": "0e3aa1a4-88d3-4fe6-aeb5-c02451cfa20f"
      },
      "execution_count": null,
      "outputs": [
        {
          "output_type": "stream",
          "name": "stdout",
          "text": [
            "/content/drive/MyDrive/Colab Notebooks\n"
          ]
        }
      ]
    },
    {
      "cell_type": "code",
      "source": [
        "ls"
      ],
      "metadata": {
        "colab": {
          "base_uri": "https://localhost:8080/"
        },
        "id": "Gp-pr6yU-Zpx",
        "outputId": "c577fa9c-8713-4539-ce78-43784d00559a"
      },
      "execution_count": null,
      "outputs": [
        {
          "output_type": "stream",
          "name": "stdout",
          "text": [
            "'Copy of StudentId_SoftwareSecurity1_week4.ipynb'   Race.py\n",
            " RaceConditionTest.ipynb                            Untitled0.ipynb\n"
          ]
        }
      ]
    },
    {
      "cell_type": "code",
      "source": [
        "!python3 --version"
      ],
      "metadata": {
        "colab": {
          "base_uri": "https://localhost:8080/"
        },
        "id": "e_31Cn3O-ddn",
        "outputId": "0e0210fc-0801-49d6-b0ca-9488ca68cf3e"
      },
      "execution_count": null,
      "outputs": [
        {
          "output_type": "stream",
          "name": "stdout",
          "text": [
            "Python 3.10.12\n"
          ]
        }
      ]
    },
    {
      "cell_type": "code",
      "source": [
        "!python3 Race.py"
      ],
      "metadata": {
        "colab": {
          "base_uri": "https://localhost:8080/"
        },
        "id": "fP5UzoI2-iNA",
        "outputId": "74e9f348-f476-441a-cc99-bddd6a9bb2d6"
      },
      "execution_count": null,
      "outputs": [
        {
          "output_type": "stream",
          "name": "stdout",
          "text": [
            "\n",
            "Parent Process:\n",
            "Process ID: 5856\n",
            "Child's process ID: 5857\n",
            "\n",
            "Child Process:\n",
            "Process ID: 5857\n",
            "Parent's process ID: 5856\n",
            "Parent Process: count.value  1005\n",
            "Child Process: count.value  1703\n",
            "Child stopped...\n",
            "Parent Process: count.value  1703\n"
          ]
        }
      ]
    },
    {
      "cell_type": "markdown",
      "source": [
        "## Exercise 02: Execution of multiple processes (2)\n",
        "\n",
        "\n",
        "Copy Race.py to RacePts.py and modify the program. How did the result change? Consider the reason."
      ],
      "metadata": {
        "id": "F3tX5bdBlZ4r"
      }
    },
    {
      "cell_type": "code",
      "source": [
        "cp Race.py \"/content/drive/MyDrive/Colab Notebooks/RacePts.py\""
      ],
      "metadata": {
        "id": "igS5IjX2-oCG"
      },
      "execution_count": null,
      "outputs": []
    },
    {
      "cell_type": "code",
      "source": [
        "!python3 RacePts.py"
      ],
      "metadata": {
        "colab": {
          "base_uri": "https://localhost:8080/"
        },
        "id": "R7_eR874IBlY",
        "outputId": "c0eae977-6b7f-47a8-92dd-4505acd43978"
      },
      "execution_count": null,
      "outputs": [
        {
          "output_type": "stream",
          "name": "stdout",
          "text": [
            "\n",
            "Parent Process:\n",
            "Process ID: 5914\n",
            "Child's process ID: 5915\n",
            "Parent Process: count.value  1000\n",
            "\n",
            "Child Process:\n",
            "Process ID: 5915\n",
            "Parent's process ID: 5914\n",
            "Child Process: count.value  2000\n",
            "Child stopped...\n",
            "Parent Process: count.value  2000\n"
          ]
        }
      ]
    }
  ]
}