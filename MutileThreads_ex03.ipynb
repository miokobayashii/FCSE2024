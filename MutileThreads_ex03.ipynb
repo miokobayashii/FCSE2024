{
  "nbformat": 4,
  "nbformat_minor": 0,
  "metadata": {
    "colab": {
      "provenance": [],
      "authorship_tag": "ABX9TyOQiriXWefVfyG5lHj0uCZ1",
      "include_colab_link": true
    },
    "kernelspec": {
      "name": "python3",
      "display_name": "Python 3"
    },
    "language_info": {
      "name": "python"
    }
  },
  "cells": [
    {
      "cell_type": "markdown",
      "metadata": {
        "id": "view-in-github",
        "colab_type": "text"
      },
      "source": [
        "<a href=\"https://colab.research.google.com/github/miokobayashii/FCSE2024/blob/main/MutileThreads_ex03.ipynb\" target=\"_parent\"><img src=\"https://colab.research.google.com/assets/colab-badge.svg\" alt=\"Open In Colab\"/></a>"
      ]
    },
    {
      "cell_type": "markdown",
      "source": [
        "### Exercise 03: Comparison between a single thread and multiple threads.\n"
      ],
      "metadata": {
        "id": "q-9ezuntR3Uq"
      }
    },
    {
      "cell_type": "markdown",
      "source": [
        "Create a list of the sites that the program is scraping."
      ],
      "metadata": {
        "id": "tbL6djosVkjp"
      }
    },
    {
      "cell_type": "code",
      "execution_count": null,
      "metadata": {
        "id": "mUBk8XzUQPwX"
      },
      "outputs": [],
      "source": [
        "import time\n",
        "import requests\n",
        "\n",
        "urls = [\"https://books.toscrape.com/catalogue/sharp-objects_997/index.html\",\n",
        "\"https://books.toscrape.com/catalogue/a-light-in-the-attic_1000/index.html\",\n",
        "\"https://books.toscrape.com/catalogue/the-white-cat-and-the-monk-a-retelling-of-the-poem-pangur-ban_865/index.html\",\n",
        "\"https://books.toscrape.com/catalogue/rip-it-up-and-start-again_986/index.html\",\n",
        "\"https://books.toscrape.com/catalogue/category/books/default_15/index.html\",\n",
        "\"https://books.toscrape.com/catalogue/without-borders-wanderlove-1_956/index.html\"\n",
        "]\n"
      ]
    },
    {
      "cell_type": "markdown",
      "source": [
        "Define the fetch function:"
      ],
      "metadata": {
        "id": "dd8NOdxhWNeI"
      }
    },
    {
      "cell_type": "code",
      "source": [
        "def fetch(url, n):\n",
        "    response = requests.get(url)\n",
        "\n",
        "    print(f\"{url}: {response.status_code}\")\n",
        "    filename = \"url\" + str(n) + \".html\"\n",
        "    f = open(filename, \"w\")\n",
        "    f.write(response.text)\n",
        "    f.close()"
      ],
      "metadata": {
        "id": "rUGbfij0QUxL"
      },
      "execution_count": null,
      "outputs": []
    },
    {
      "cell_type": "markdown",
      "source": [
        "Execution of a single thread."
      ],
      "metadata": {
        "id": "R2Q0k1MSWWG-"
      }
    },
    {
      "cell_type": "code",
      "source": [
        "time_1 = time.time()\n",
        "n = 0\n",
        "for i in urls:\n",
        "    fetch(i, n)\n",
        "    n = n + 1\n",
        "\n",
        "time_2 = time.time()\n",
        "print(time_2 - time_1)"
      ],
      "metadata": {
        "id": "eBuDNA8TQXFW"
      },
      "execution_count": null,
      "outputs": []
    },
    {
      "cell_type": "markdown",
      "source": [
        "Execution of multiple threads.\n",
        "\n",
        "\n",
        "*   How many threads are created?\n",
        "*   Compare the results of a single thread execution and multiple thread executions.\n",
        "\n",
        "\n"
      ],
      "metadata": {
        "id": "eZ7vdbd3WdJU"
      }
    },
    {
      "cell_type": "code",
      "source": [
        "import threading\n",
        "\n",
        "time_1 = time.time()\n",
        "n = 0\n",
        "threads = []\n",
        "for url in urls:\n",
        "    thread = threading.Thread(target=fetch, args=(url,n))\n",
        "    threads.append(thread)\n",
        "    n = n + 1\n",
        "\n",
        "for thread in threads:\n",
        "    thread.start()\n",
        "\n",
        "for thread in threads:\n",
        "    thread.join()\n",
        "\n",
        "time_2 = time.time()\n",
        "print(time_2 - time_1)"
      ],
      "metadata": {
        "id": "n3dl1YcRRRpc"
      },
      "execution_count": null,
      "outputs": []
    }
  ]
}